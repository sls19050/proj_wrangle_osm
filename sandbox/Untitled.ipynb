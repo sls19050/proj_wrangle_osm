{
 "cells": [
  {
   "cell_type": "code",
   "execution_count": 13,
   "metadata": {
    "collapsed": false
   },
   "outputs": [],
   "source": [
    "import csv, sqlite3\n",
    "con = sqlite3.connect(\"../sqlite_dbs/nodes_tags.db\")\n",
    "cur = con.cursor()\n"
   ]
  },
  {
   "cell_type": "code",
   "execution_count": 23,
   "metadata": {
    "collapsed": false
   },
   "outputs": [
    {
     "name": "stdout",
     "output_type": "stream",
     "text": [
      "(700803862, u'Feierabend', u'german')\n",
      "(1077620652, u'Starbucks', u'coffee_shop')\n",
      "(1194800768, u\"Big Mario's Pizza\", u'pizza')\n",
      "(1216903356, u'Trabant', u'coffee_shop')\n",
      "(1216903483, u'Thai Taste', u'thai')\n",
      "(1216903487, u\"Seattle's Best Coffee\", u'coffee_shop')\n",
      "(1216904369, u\"Chuck's Hole in the Wall Barbecue\", u'american;barbecue')\n",
      "(1216905643, u'Il Corvo Pasta', u'italian')\n",
      "(1216908751, u'Happy Garden Chinese Cuisine', u'chinese')\n",
      "(1217650391, u'Eltana Bagels', u'bagel')\n"
     ]
    }
   ],
   "source": [
    "sql_cmd = \"\"\"\n",
    "\n",
    "SELECT T1.id, T1.value, T2.value FROM nodes_tags AS T1                                      \n",
    "JOIN (\n",
    "    SELECT * FROM nodes_tags\n",
    "    WHERE key = 'cuisine'\n",
    "    ) AS T2\n",
    "ON T1.id = T2.id\n",
    "WHERE T1.key = 'name'\n",
    "\"\"\"\n",
    "\n",
    "data = cur.execute(sql_cmd)\n",
    "limiter = 0\n",
    "for d in data:\n",
    "    if limiter >= 10:\n",
    "        break\n",
    "    print d\n",
    "    limiter += 1\n",
    "    "
   ]
  },
  {
   "cell_type": "code",
   "execution_count": null,
   "metadata": {
    "collapsed": true
   },
   "outputs": [],
   "source": []
  }
 ],
 "metadata": {
  "kernelspec": {
   "display_name": "Python 2",
   "language": "python",
   "name": "python2"
  },
  "language_info": {
   "codemirror_mode": {
    "name": "ipython",
    "version": 2
   },
   "file_extension": ".py",
   "mimetype": "text/x-python",
   "name": "python",
   "nbconvert_exporter": "python",
   "pygments_lexer": "ipython2",
   "version": "2.7.13"
  }
 },
 "nbformat": 4,
 "nbformat_minor": 1
}
