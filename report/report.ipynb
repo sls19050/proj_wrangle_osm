{
 "cells": [
  {
   "cell_type": "markdown",
   "metadata": {},
   "source": [
    "# Project: Data Wrangling OSM\n",
    "Map Area:\n",
    "I have chosen my neighborhood, Capitol Hill, Seattle."
   ]
  },
  {
   "cell_type": "markdown",
   "metadata": {},
   "source": [
    "## 1. Auditing OSM data\n",
    "### Unique Tags\n",
    "After downloaded the OSM data of my neighborhood, Capitol Hill, I decided to do a count for each unique tag in the OSM file, just to make sure that the data is reasonable. The script used was **mapparser.py**, generating the following output:"
   ]
  },
  {
   "cell_type": "markdown",
   "metadata": {},
   "source": [
    "* \"node\": 203843, \n",
    "* \"member\": 24732, \n",
    "* \"nd\": 221071, \n",
    "* \"tag\": 218155, \n",
    "* \"bounds\": 1, \n",
    "* \"note\": 1, \n",
    "* \"meta\": 1, \n",
    "* \"relation\": 563, \n",
    "* \"way\": 22017, \n",
    "* \"osm\": 1"
   ]
  },
  {
   "cell_type": "markdown",
   "metadata": {},
   "source": [
    "As expected, I am getting a lot of \"node\" and \"way\" tags, and that the number of node tags is greater than that of the way tags. This is reasonable becuase ways are just a series of connected nodes.  "
   ]
  },
  {
   "cell_type": "markdown",
   "metadata": {},
   "source": [
    "### Check characters in Tags\n",
    "Each tag \"tag\" has a \"k\" value indicating information that the tag contains. The script **tags.py** uses regular expressions to sort and count the \"k\" values of the tags. \n",
    "Here are the sorting criteria for the four categories:\n",
    "* **problemchars**: has at least one of the problem characters\n",
    "* **lower **: consists of only lowercase alphabets\n",
    "* **lower_colon**: consists of lowercase alphabets followed by one colon character and lowercase alphabets\n",
    "* **other**: anything else that doesn't fit those three categories\n",
    "\n",
    "The following is the count for each category:\n",
    "\n",
    "* \"problemchars\": 0, \n",
    "* \"lower\": 110036, \n",
    "* \"lower_colon\": 103595\n",
    "* \"other\": 4524, "
   ]
  },
  {
   "cell_type": "markdown",
   "metadata": {},
   "source": [
    "It is good that we do not have any tags with problem characters in their \"k\" values. Most \"k\" values just consists of alphabets, and many of them has a colon with alphabets, suggesting that we will need to parse those with colon later on when building a heirarchical database."
   ]
  },
  {
   "cell_type": "markdown",
   "metadata": {},
   "source": [
    "## 2. Problems encountered in my map\n",
    "### Street name inconsistency\n",
    "The script **audit.py** identifies odd street names and shows the converted names for each identified \"odd street name\":\n",
    "* 12th Ave E =>  12th Avenue E\n",
    "* 20th Ave E =>  20th Avenue E\n",
    "* E Union St. =>  E Union Street\n",
    "* Yesler =>  Yesler\n",
    "* Westlake Ave =>  Westlake Avenue\n",
    "* 18th Ave =>  18th Avenue\n",
    "* 4th Ave =>  4th Avenue\n",
    "* 2nd Ave =>  2nd Avenue\n",
    "* 3rd Ave =>  3rd Avenue\n",
    "* 34th Ave =>  34th Avenue\n",
    "* 1st Ave =>  1st Avenue\n",
    "* Boylston Ave =>  Boylston Avenue\n",
    "* 14th Ave =>  14th Avenue\n",
    "* Broadway =>  Broadway\n",
    "* Broadway East =>  Broadway East\n",
    "\n"
   ]
  },
  {
   "cell_type": "markdown",
   "metadata": {},
   "source": [
    "In summary the following street name abbreviations require corrections:\n",
    "* Ave => Avenue\n",
    "* St. = > Street\n",
    "\n",
    "The following street names are exceptions that do not require corrections:\n",
    "* Yesler\n",
    "* Broadway\n",
    "* Broadway East"
   ]
  },
  {
   "cell_type": "markdown",
   "metadata": {},
   "source": [
    "### Implementing changes to street names\n",
    "The python script **data.py** parses the OSM file into csv files.\n",
    "\n",
    "The bash script **clean_street_names.sh** performs text substitution on nodes_tags.csv and ways_tags.csv and converts the above mentioned odd street names to their corrected ones."
   ]
  },
  {
   "cell_type": "markdown",
   "metadata": {
    "collapsed": true
   },
   "source": [
    "## 3. Overview of the data\n",
    "\n",
    "### 3.1 File sizes\n",
    "\n",
    "* CustomSeattle.osm: 51.7MB\n",
    "* CustomSeattle.db: 29.3MB\n",
    "* nodes.csv: 17.3MB\n",
    "* nodes_tags.csv: 4.1MB\n",
    "* ways.csv: 1.3MB\n",
    "* ways_nodes.csv: 5.3MB\n",
    "* ways_tags/csv\" 4.1MB\n",
    "\n",
    "\n",
    "\n",
    "### Overview of statistics of the dataset:\n",
    "\n"
   ]
  },
  {
   "cell_type": "markdown",
   "metadata": {},
   "source": [
    "### 3.2 Number of unique users\n",
    "\n",
    "**Query**:\n",
    "\n",
    "    SELECT COUNT(DISTINCT uid) FROM \n",
    "        (SELECT N.uid FROM nodes AS N\n",
    "            UNION\n",
    "        SELECT W.uid FROM ways AS W);\n",
    "**Output**:\n",
    "    428"
   ]
  },
  {
   "cell_type": "markdown",
   "metadata": {},
   "source": [
    "### 3.3 Number of nodes and ways\n",
    "\n",
    "**Query for nodes**:\n",
    "\n",
    "    SELECT COUNT(DISTINCT id) FROM nodes;\n",
    "**Output, number of nodes**:\n",
    "\n",
    "    203843\n",
    "\n",
    "**Query for ways**:\n",
    "\n",
    "    SELECT COUNT(DISTINCT id) FROM ways;\n",
    "**Output, number of ways**:\n",
    "\n",
    "    22017\n"
   ]
  },
  {
   "cell_type": "markdown",
   "metadata": {},
   "source": [
    "### 3.4 Number of restaurants\n",
    "\n",
    "**Query**:\n",
    "\n",
    "    SELECT COUNT(*) FROM nodes_tags\n",
    "    WHERE key = \"amenity\"\n",
    "    AND value = \"restaurant\";\n",
    "    \n",
    "**Output**:\n",
    "\n",
    "    388"
   ]
  },
  {
   "cell_type": "markdown",
   "metadata": {},
   "source": [
    "### 3.5 Top 5 highest counts of type of cuisine served in restaurants\n",
    "\n",
    "**Query**:\n",
    "\n",
    "    SELECT value, COUNT(*) AS count \n",
    "    FROM nodes_tags\n",
    "    WHERE id IN (\n",
    "        SELECT id FROM nodes_tags\n",
    "        WHERE key = \"amenity\"\n",
    "        AND value = \"restaurant\"\n",
    "        )\n",
    "    AND key = \"cuisine\"\n",
    "    GROUP BY value\n",
    "    ORDER BY count DESC\n",
    "    LIMIT 5;\n",
    "    \n",
    "**Output**:  \n",
    "mexican|24  \n",
    "italian|23  \n",
    "pizza|21  \n",
    "thai|19  \n",
    "japanese|17  \n",
    " \n",
    "\n",
    "\n"
   ]
  },
  {
   "cell_type": "markdown",
   "metadata": {},
   "source": [
    "### 3.6 Top 5 roads with the most nodes\n",
    "\n",
    "**Query**:\n",
    "\n",
    "    SELECT value, count \n",
    "    FROM ( \n",
    "        SELECT id, COUNT(*) AS count\n",
    "        FROM ways_nodes\n",
    "        GROUP BY id\n",
    "        ) AS wn\n",
    "    JOIN ways_tags AS w\n",
    "    ON wn.id = w.id\n",
    "    WHERE key = \"street\"\n",
    "    ORDER BY count DESC\n",
    "    LIMIT 5;\n",
    "    \n",
    "**Output**:  \n",
    "4th Avenue North|147  \n",
    "East Yesler Way|125  \n",
    "John Street|106  \n",
    "Wall Street|101  \n",
    "East Yesler Way|93  \n",
    "\n",
    " \n",
    "\n",
    "\n"
   ]
  },
  {
   "cell_type": "markdown",
   "metadata": {},
   "source": [
    "### 3.7 Top 5 contributors to the bike racks\n",
    "\n",
    "**Query**:\n",
    "    \n",
    "    SELECT user, COUNT(*) AS count\n",
    "    FROM nodes    \n",
    "    WHERE nodes.id IN \n",
    "        (SELECT id FROM nodes_tags \n",
    "        WHERE key LIKE \"bike_rack%\"\n",
    "        GROUP BY id)\n",
    "    GROUP BY uid\n",
    "    ORDER BY count DESC\n",
    "    LIMIT 5;\n",
    "   \n",
    "    \n",
    "    \n",
    "    \n",
    "    \n",
    "**Output**:  \n",
    "WBSKI|631  \n",
    "sctrojan79|150  \n",
    "rza31|38  \n",
    "bdp|33  \n",
    "Omnific|28  \n"
   ]
  },
  {
   "cell_type": "markdown",
   "metadata": {},
   "source": [
    "## 4. Other ideas about the dataset\n",
    "### 4.1 Find the best place to live in Capitol Hill\n",
    "The best place to live in Capitol Hill can be found by minimizing the following objective function (i.e. minimize cost of living):\n",
    "\n",
    "Cost of living = Cost to walk to work + Cost of losing sleep\n",
    "\n",
    "Where:\n",
    "* Cost to walk to work is proportional to the distance from the Oddfellows Cafe (lon, lat = 47.6148943,-122.321752517) to the apartment of interest\n",
    "* Cost of losing sleep is a function of noise from bars, which is approximately inversely proportional to the squared distance from the nearest bar to the apartment of interest\n",
    "\n",
    "Since both metrics require the computation of distances, I decide to use pysqlilte, so that I can customize a DIST() function for returning distances given a pair of lon and lat.\n",
    "\n",
    "The following briefly walks through the Python script. For details of each SQL query, please refer to the Python script.\n",
    "\n"
   ]
  },
  {
   "cell_type": "markdown",
   "metadata": {},
   "source": [
    "#### Getting coordinates of all apartments in the area:\n",
    "The apartments are usually large buildings; the ways_nodes table outlines the boundnary of these building with a series of nodes. I decided to average the lon and lat of the series of nodes of each apartment building to get a single point location for each apartment. Unfortunately, some of apartments were stored in the 'nodes' tables instead of the 'ways' tables. Therefore I had to use \"UNION\" to combine the results together.\n",
    "\n",
    "**Query:**\n",
    "\n",
    "    CREATE VIEW apt_pos AS\n",
    "\t\tSELECT n.id, n.lat, n.lon, nt2.value AS name\n",
    "\t\tFROM nodes_tags AS nt\n",
    "\t\tJOIN nodes_tags AS nt2\n",
    "\t\tON nt.id = nt2.id\n",
    "\t\tJOIN nodes AS n\n",
    "\t\t\tON n.id = nt.id\n",
    "\t\tWHERE \n",
    "\t\t\t(nt.key = 'building' OR  nt.value = 'residential')\n",
    "\t\t\tAND nt.value LIKE 'apartment%'\n",
    "\t\t\tAND nt2.key = 'name'\n",
    "\t\t\t\n",
    "\t\t\tUNION\n",
    "\n",
    "\t\tSELECT wt.id, AVG(n.lat) AS lat, \n",
    "\t\t\tAVG(n.lon) AS lon, wt2.value AS name\n",
    "\t\tFROM ways_tags AS wt\n",
    "\t\tJOIN ways_tags AS wt2\n",
    "            ON wt.id = wt2.id\t\n",
    "\t\tJOIN ways_nodes AS wn\n",
    "            ON wt.id = wn.id\n",
    "\t\tJOIN nodes AS n\n",
    "\t\t\tON n.id = wn.node_id\n",
    "\t\tWHERE \n",
    "\t\t\t(wt.key = 'building' OR  wt.value = 'residential')\n",
    "\t\t\tAND wt.value LIKE 'apartment%'\n",
    "\t\t\tAND wt2.key = 'name'\n",
    "\t\tGROUP BY wt.id;\n",
    "\n",
    "**Truncated Output of this Temp View apt_pos**:\n",
    "\n",
    "444092514,47.6258002818,-122.344453945,708 Uptown  \n",
    "456138164,47.6176869917,-122.304130758,Session  \n",
    "490586222,47.6171625944,-122.337787544,Stratus  \n",
    "492248771,47.6176266435,-122.339369665,McKenzie Apartments  \n",
    "492680050,47.6216989714,-122.338885314,The Lofts\n"
   ]
  },
  {
   "cell_type": "markdown",
   "metadata": {},
   "source": [
    "#### Getting coordinates of all bars in the area:\n",
    "A similar process was done to get all coordinates of the bars in the area (please refer to the Python script for details).\n",
    "\n",
    "**Query**:\n",
    "\n",
    "\tCREATE VIEW bar_pos AS          \n",
    "\t\tSELECT n.id, nt2.value AS name, n.lat, n.lon \n",
    "\t\tFROM nodes_tags AS nt1\n",
    "\t\tJOIN nodes_tags AS nt2 \n",
    "\t\t\tON nt1.id = nt2.id\n",
    "\t\tJOIN nodes AS n\n",
    "\t\t\tON n.id = nt1.id\n",
    "\t\tWHERE nt1.key = 'amenity' \n",
    "\t\t\tAND nt1.value = 'bar'\n",
    "\t\t\tAND nt2.key = 'name';\n",
    "**Truncated Output of Table bar_pos**:  \n",
    "4522428050|Cantine|47.6237717|-122.3388101  \n",
    "4527603992|Yeti Bar|47.6185987|-122.3210229  \n",
    "4531209989|Fountain Wine Bar & Lounge|47.6110689|-122.3340032  \n",
    "4588626389|Foreign National|47.6142159|-122.3274435  \n",
    "4677585271|mbar|47.6227869|-122.3338623  \n"
   ]
  },
  {
   "cell_type": "markdown",
   "metadata": {},
   "source": [
    "#### For each apartment, calculate distances to the nearest bar, and to work\n",
    "\n",
    "**Query**:\n",
    "\n",
    "\tCREATE TEMP VIEW A_B_dists AS\n",
    "\tSELECT A.id, A.lat, A.lon, A.name, B.name,\n",
    "\t\tMIN(dist(A.lat, A.lon, B.lat, B.lon)) AS b_dist,\n",
    "\t\tdist(A.lat, A.lon, 47.6148943, -122.321752517) \n",
    "        AS w_dist\n",
    "\tFROM apt_pos AS A\n",
    "\tJOIN bar_pos AS B\n",
    "\tGROUP BY A.id;\n",
    "\n",
    "**Truncated Output of Table A_B_dists**:\n",
    "\n",
    "44598313,47.6132006857,-122.332295986,Premiere on Pine,Fountain Wine Bar & Lounge,0.180419920635,0.653316433256  \n",
    "68665991,47.611038375,-122.341193633,Viktoria,Nitelite,0.0335220834781,1.21541106455  \n",
    "118979624,47.61219518,-122.329718968,Elektra Condominiums,Still Liquor,0.188285581865,0.520351253027  \n",
    "140676009,47.609754675,-122.325954112,The Chasselton,Sun Liquor Distillery,0.318226734371,0.438004181541  \n",
    "140676014,47.6090702,-122.32919012,Emerson Apartments,Regatta Bar & Grille,0.183395353659,0.606615541837\n"
   ]
  },
  {
   "cell_type": "markdown",
   "metadata": {},
   "source": [
    "#### Convert distances to costs and find the best apartment!\n",
    "A scoring function was defined in Python and used in the SQL query.\n",
    "Using the following expression, I can convert distances to costs:\n",
    "* Daily cost of walking to work = 2 \\* distance to work \\* 1hr/3miles * $35/hr  \n",
    "\n",
    "* For calculating daily cost of losing sleep:  \n",
    "    estimate noise from the nearest bar = 90 decibels \\* (0.00568182 miles / distance to closest bar)^2  \n",
    "    if estimated noise from the nearest bar <= 60 decibels:  \n",
    "    then the cost = 0  \n",
    "    else:  \n",
    "    Daily cost of losing sleep = \\$5/decibel \\* (estimated noise - 60 decibels) + \\$50  \n",
    "\n"
   ]
  },
  {
   "cell_type": "markdown",
   "metadata": {},
   "source": [
    "**Query**:  \n",
    "\t\n",
    "    SELECT A_name,\n",
    "\t\tscoring(b_dist, w_dist) AS score\n",
    "\tFROM A_B_dists\n",
    "\tORDER BY score\n",
    "    \n",
    "**First 5 Output**:\n",
    "\n",
    "Cue Apartments,0.894976218219  \n",
    "Pike Motorworks,1.76264398828  \n",
    "The Starbird,1.98814250979  \n",
    "The Lenawee,2.22456104679  \n",
    "Glencoe,2.84915844525  \n"
   ]
  },
  {
   "cell_type": "markdown",
   "metadata": {},
   "source": [
    "Based on my two metrics (distance to work and to nearest bars), I have found the best apartment, which is Cue Apartments!!!!!"
   ]
  }
 ],
 "metadata": {
  "kernelspec": {
   "display_name": "Python 2",
   "language": "python",
   "name": "python2"
  },
  "language_info": {
   "codemirror_mode": {
    "name": "ipython",
    "version": 2
   },
   "file_extension": ".py",
   "mimetype": "text/x-python",
   "name": "python",
   "nbconvert_exporter": "python",
   "pygments_lexer": "ipython2",
   "version": "2.7.13"
  }
 },
 "nbformat": 4,
 "nbformat_minor": 1
}
