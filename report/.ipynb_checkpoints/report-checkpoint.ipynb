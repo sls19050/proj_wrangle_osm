{
 "cells": [
  {
   "cell_type": "markdown",
   "metadata": {},
   "source": [
    "# Project: Data Wrangling OSM\n",
    "Map Area:\n",
    "I have chosen my neighborhood, Capitol Hill, in Seattle."
   ]
  },
  {
   "cell_type": "markdown",
   "metadata": {},
   "source": [
    "## 1. Auditing OSM data\n",
    "### Unique Tags\n",
    "After downloaded the OSM data of my neighborhood, Capitol Hill, I decided to do a count for each unique tag in the OSM file, just to make sure that the data is reasonable. The script used was **mapparser.py**, generating the following output:"
   ]
  },
  {
   "cell_type": "markdown",
   "metadata": {},
   "source": [
    "* \"node\": 203843, \n",
    "* \"member\": 24732, \n",
    "* \"nd\": 221071, \n",
    "* \"tag\": 218155, \n",
    "* \"bounds\": 1, \n",
    "* \"note\": 1, \n",
    "* \"meta\": 1, \n",
    "* \"relation\": 563, \n",
    "* \"way\": 22017, \n",
    "* \"osm\": 1"
   ]
  },
  {
   "cell_type": "markdown",
   "metadata": {},
   "source": [
    "As expected, I am getting a lot of \"node\" and \"way\" tags, and that the number of node tags is greater than that of the way tags. This is reasonable becuase ways are just a series of connected nodes.  "
   ]
  },
  {
   "cell_type": "markdown",
   "metadata": {},
   "source": [
    "### Check characters in Tags\n",
    "Each tag \"tag\" has a \"k\" value indicating information that the tag contains. The script **tags.py** uses regular expressions to sort and count the \"k\" values of the tags. \n",
    "Here are the sorting criteria for the four categories:\n",
    "* **problemchars**: has at least one of the problem characters\n",
    "* **lower **: consists of only lowercase alphabets\n",
    "* **lower_colon**: consists of lowercase alphabets followed by one colon character and lowercase alphabets\n",
    "* **other**: anything else that doesn't fit those three categories\n",
    "\n",
    "The following is the count for each category:\n",
    "\n",
    "* \"problemchars\": 0, \n",
    "* \"lower\": 110036, \n",
    "* \"lower_colon\": 103595\n",
    "* \"other\": 4524, "
   ]
  },
  {
   "cell_type": "markdown",
   "metadata": {},
   "source": [
    "It is good that we do not have any tags with problem characters in their \"k\" values. Most \"k\" values just consists of alphabets, and many of them has a colon with alphabets, suggesting that we will need to parse those with colon later on when building a heirarchical database."
   ]
  },
  {
   "cell_type": "markdown",
   "metadata": {},
   "source": [
    "## 2. Problems in the Map\n",
    "### Street name inconsistency\n",
    "The script **audit.py** identifies odd street names and shows the converted names for each identified \"odd street name\":\n",
    "* 12th Ave E =>  12th Avenue E\n",
    "* 20th Ave E =>  20th Avenue E\n",
    "* E Union St. =>  E Union Street\n",
    "* Yesler =>  Yesler\n",
    "* Westlake Ave =>  Westlake Avenue\n",
    "* 18th Ave =>  18th Avenue\n",
    "* 4th Ave =>  4th Avenue\n",
    "* 2nd Ave =>  2nd Avenue\n",
    "* 3rd Ave =>  3rd Avenue\n",
    "* 34th Ave =>  34th Avenue\n",
    "* 1st Ave =>  1st Avenue\n",
    "* Boylston Ave =>  Boylston Avenue\n",
    "* 14th Ave =>  14th Avenue\n",
    "* Broadway =>  Broadway\n",
    "* Broadway East =>  Broadway East\n",
    "\n"
   ]
  },
  {
   "cell_type": "markdown",
   "metadata": {},
   "source": [
    "In summary the following street names require corrections:\n",
    "* Ave => Avenue\n",
    "* St. = > Street\n",
    "\n",
    "The following street names are exceptions that do not require corrections:\n",
    "* Yesler\n",
    "* Broadway\n",
    "* Broadway East"
   ]
  },
  {
   "cell_type": "code",
   "execution_count": null,
   "metadata": {
    "collapsed": true
   },
   "outputs": [],
   "source": []
  }
 ],
 "metadata": {
  "kernelspec": {
   "display_name": "Python 2",
   "language": "python",
   "name": "python2"
  },
  "language_info": {
   "codemirror_mode": {
    "name": "ipython",
    "version": 2
   },
   "file_extension": ".py",
   "mimetype": "text/x-python",
   "name": "python",
   "nbconvert_exporter": "python",
   "pygments_lexer": "ipython2",
   "version": "2.7.13"
  }
 },
 "nbformat": 4,
 "nbformat_minor": 1
}
